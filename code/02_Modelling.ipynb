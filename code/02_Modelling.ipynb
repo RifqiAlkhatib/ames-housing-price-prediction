{
 "cells": [
  {
   "cell_type": "markdown",
   "metadata": {},
   "source": [
    "# Creating Prediction Model\n",
    "\n",
    "We will be creating multiple linear regression models that will try and predict housing prices based on the features in our cleaned datasets. The models will be evaluated based on the root mean squared error (RMSE) of their predictions against the validation set. Once the best production model is found, the final model will then be retrained using the entire training dataset then its test set predictions will be submitted to Kaggle to determine the actual test score.\n",
    "\n",
    "## Contents:\n",
    "- [Finding Production Model](#Finding-Production-Model)\n",
    "- [Submission](#Submission)\n",
    "- [Conclusions](#Conclusions)"
   ]
  },
  {
   "cell_type": "code",
   "execution_count": 1,
   "metadata": {},
   "outputs": [],
   "source": [
    "# Imports\n",
    "import pandas as pd\n",
    "import numpy as np\n",
    "import seaborn as sns\n",
    "import matplotlib.pyplot as plt\n",
    "\n",
    "from sklearn.model_selection import train_test_split, cross_val_score\n",
    "from sklearn.preprocessing import OneHotEncoder, StandardScaler, PolynomialFeatures\n",
    "from sklearn.linear_model import LinearRegression, Lasso, LassoCV, Ridge, RidgeCV\n",
    "from sklearn.feature_selection import RFE\n",
    "import sklearn.metrics as metrics\n",
    "\n",
    "%matplotlib inline"
   ]
  },
  {
   "cell_type": "markdown",
   "metadata": {},
   "source": [
    "## Null Regression\n",
    "\n",
    "First, we will be creating a null regression model using the train target mean as the predicted value. This is the most basic form of prediction we can perform and will serve as the baseline for our model evaluation, i.e. any model we create **must** beat this score."
   ]
  },
  {
   "cell_type": "code",
   "execution_count": 2,
   "metadata": {},
   "outputs": [],
   "source": [
    "test = pd.read_csv('../datasets/test.csv')\n",
    "full_train = pd.read_csv('../datasets/full_train.csv')"
   ]
  },
  {
   "cell_type": "code",
   "execution_count": 3,
   "metadata": {},
   "outputs": [],
   "source": [
    "# Creating dataframe with null regression predictions\n",
    "null_regression = pd.DataFrame({\n",
    "    'Id': [],\n",
    "    'SalePrice': []\n",
    "})\n",
    "\n",
    "null_regression['Id'] = test['Id']\n",
    "null_regression['SalePrice'] = full_train['SalePrice'].mean()"
   ]
  },
  {
   "cell_type": "code",
   "execution_count": 4,
   "metadata": {},
   "outputs": [],
   "source": [
    "# Exporting .csv file for submission to Kaggle\n",
    "null_regression.to_csv('../datasets/null_regression_submission.csv', index=False)"
   ]
  },
  {
   "cell_type": "markdown",
   "metadata": {},
   "source": [
    "Submitting the null regression predictions to Kaggle,\n",
    "\n",
    "![null_regression_score](../images/null_regression_score.png \"Null Regression Score\")"
   ]
  },
  {
   "cell_type": "markdown",
   "metadata": {},
   "source": [
    "## Model Preparation\n",
    "\n",
    "First, we will separate the features matrix `X` from our target vector `y` in the cleaned datasets."
   ]
  },
  {
   "cell_type": "code",
   "execution_count": 5,
   "metadata": {},
   "outputs": [],
   "source": [
    "# Import cleaned datasets\n",
    "X_test = pd.read_csv('../datasets/test_cleaned.csv')\n",
    "train = pd.read_csv('../datasets/partial_train_cleaned.csv')\n",
    "val = pd.read_csv('../datasets/validation_cleaned.csv')\n",
    "full_train = pd.read_csv('../datasets/full_train_cleaned.csv')"
   ]
  },
  {
   "cell_type": "code",
   "execution_count": 6,
   "metadata": {},
   "outputs": [],
   "source": [
    "X_train = train.drop(columns='saleprice')\n",
    "X_val = val.drop(columns='saleprice')\n",
    "y_train = train['saleprice']\n",
    "y_val = val['saleprice']\n",
    "X_full_train = full_train.drop(columns='saleprice')\n",
    "y_full_train = full_train['saleprice']"
   ]
  },
  {
   "cell_type": "markdown",
   "metadata": {},
   "source": [
    "For this dataset, we will be testing 3 different types of models:\n",
    "1. Linear Regression with no penalty\n",
    "2. Ridge Regression (l2 penalty)\n",
    "3. Lasso Regression (l1 penalty)"
   ]
  },
  {
   "cell_type": "markdown",
   "metadata": {},
   "source": [
    "## Full Feature Models\n",
    "\n",
    "First, we will try creating models using all 187 features in our dataset.\n",
    "\n",
    "### Linear Regression"
   ]
  },
  {
   "cell_type": "code",
   "execution_count": 7,
   "metadata": {},
   "outputs": [],
   "source": [
    "# Instantiate\n",
    "lr_full = LinearRegression()"
   ]
  },
  {
   "cell_type": "code",
   "execution_count": 8,
   "metadata": {},
   "outputs": [
    {
     "data": {
      "text/plain": [
       "1878081818178606.8"
      ]
     },
     "execution_count": 8,
     "metadata": {},
     "output_type": "execute_result"
    }
   ],
   "source": [
    "# Cross validation\n",
    "np.abs(cross_val_score(lr_full, X_train, y_train, scoring='neg_root_mean_squared_error').mean())"
   ]
  },
  {
   "cell_type": "code",
   "execution_count": 9,
   "metadata": {},
   "outputs": [
    {
     "data": {
      "text/plain": [
       "23643.348347428688"
      ]
     },
     "execution_count": 9,
     "metadata": {},
     "output_type": "execute_result"
    }
   ],
   "source": [
    "# Evaluation against validation set\n",
    "lr_full.fit(X_train, y_train)\n",
    "\n",
    "np.sqrt(metrics.mean_squared_error(y_val, lr_full.predict(X_val)))"
   ]
  },
  {
   "cell_type": "markdown",
   "metadata": {},
   "source": [
    "### Ridge Regression"
   ]
  },
  {
   "cell_type": "code",
   "execution_count": 10,
   "metadata": {},
   "outputs": [],
   "source": [
    "# Finding best alpha term\n",
    "r_alphas = np.logspace(0, 5, 200)\n",
    "ridge_cv_full = RidgeCV(alphas=r_alphas, store_cv_values=True)\n",
    "ridge_cv_full.fit(X_train, y_train);"
   ]
  },
  {
   "cell_type": "code",
   "execution_count": 11,
   "metadata": {},
   "outputs": [
    {
     "data": {
      "text/plain": [
       "7.149428986597579"
      ]
     },
     "execution_count": 11,
     "metadata": {},
     "output_type": "execute_result"
    }
   ],
   "source": [
    "# Best alpha\n",
    "ridge_cv_full.alpha_"
   ]
  },
  {
   "cell_type": "code",
   "execution_count": 12,
   "metadata": {},
   "outputs": [],
   "source": [
    "# Instantiate\n",
    "ridge_full = Ridge(alpha=ridge_cv_full.alpha_)"
   ]
  },
  {
   "cell_type": "code",
   "execution_count": 13,
   "metadata": {},
   "outputs": [
    {
     "data": {
      "text/plain": [
       "22723.979795521573"
      ]
     },
     "execution_count": 13,
     "metadata": {},
     "output_type": "execute_result"
    }
   ],
   "source": [
    "# Cross validation\n",
    "np.abs(cross_val_score(ridge_full, X_train, y_train, scoring='neg_root_mean_squared_error').mean())"
   ]
  },
  {
   "cell_type": "code",
   "execution_count": 14,
   "metadata": {},
   "outputs": [
    {
     "data": {
      "text/plain": [
       "23355.282498223612"
      ]
     },
     "execution_count": 14,
     "metadata": {},
     "output_type": "execute_result"
    }
   ],
   "source": [
    "# Evaluation against validation set\n",
    "ridge_full.fit(X_train, y_train)\n",
    "\n",
    "np.sqrt(metrics.mean_squared_error(y_val, ridge_full.predict(X_val)))"
   ]
  },
  {
   "cell_type": "markdown",
   "metadata": {},
   "source": [
    "### Lasso Regression"
   ]
  },
  {
   "cell_type": "code",
   "execution_count": 15,
   "metadata": {},
   "outputs": [],
   "source": [
    "# Finding best alpha term\n",
    "lasso_cv_full = LassoCV(n_alphas=100)\n",
    "lasso_cv_full.fit(X_train, y_train);"
   ]
  },
  {
   "cell_type": "code",
   "execution_count": 16,
   "metadata": {},
   "outputs": [
    {
     "data": {
      "text/plain": [
       "64.27170023817074"
      ]
     },
     "execution_count": 16,
     "metadata": {},
     "output_type": "execute_result"
    }
   ],
   "source": [
    "# Best alpha\n",
    "lasso_cv_full.alpha_"
   ]
  },
  {
   "cell_type": "code",
   "execution_count": 17,
   "metadata": {},
   "outputs": [],
   "source": [
    "# Instantiate\n",
    "lasso_full = Lasso(alpha=lasso_cv_full.alpha_)"
   ]
  },
  {
   "cell_type": "code",
   "execution_count": 18,
   "metadata": {},
   "outputs": [
    {
     "data": {
      "text/plain": [
       "22777.919822137075"
      ]
     },
     "execution_count": 18,
     "metadata": {},
     "output_type": "execute_result"
    }
   ],
   "source": [
    "# Cross validation\n",
    "np.abs(cross_val_score(lasso_full, X_train, y_train, scoring='neg_root_mean_squared_error').mean())"
   ]
  },
  {
   "cell_type": "code",
   "execution_count": 19,
   "metadata": {},
   "outputs": [
    {
     "data": {
      "text/plain": [
       "23177.912524904383"
      ]
     },
     "execution_count": 19,
     "metadata": {},
     "output_type": "execute_result"
    }
   ],
   "source": [
    "# Evaluation against validation set\n",
    "lasso_full.fit(X_train, y_train)\n",
    "\n",
    "np.sqrt(metrics.mean_squared_error(y_val, lasso_full.predict(X_val)))"
   ]
  },
  {
   "cell_type": "markdown",
   "metadata": {},
   "source": [
    "| Model      | No. of Features Input | Cross Val Score | Validation Score (RMSE) |\n",
    "|------------|---------------------|-----------------|-------------------|\n",
    "| null regression       | -                   | -               | 83689.75 (Kaggle) |\n",
    "| lr_full    | 187                 |     1.88E+15     |     23643.35     |\n",
    "| ridge_full | 187                 |     22723.98    |     23355.28      |\n",
    "| lasso_full | 187                 |     22777.92    |     23177.91     |\n",
    "\n"
   ]
  },
  {
   "cell_type": "markdown",
   "metadata": {},
   "source": [
    "# Finding Production Model\n",
    "\n",
    "As seen above, the models surprisingly performed quite well even though all the features were included. The basic linear regression model, however, requires further study. The RMSE score against the validation set was pretty decent, but the model had a huge cross val score. Upon further inspection, we get the RMSE scores for the individual cross validation set below:\n",
    "\n",
    "| Cross Validation Set | 1        | 2        | 3        | 4        | 5        |\n",
    "|----------------------|----------|----------|----------|----------|----------|\n",
    "| RMSE                 | 6.11E+13 | 5.98E+15 | 2.13E+04 | 3.25E+15 | 9.43E+13 |\n",
    "\n",
    "From this, we notice that set 3 had a pretty good RMSE score. However, the average score was greatly affected by the other 4 sets that had much larger RMSE scores, in orders of several magnitudes. When considering the decent validation score alongside this information, we can surmise that the presence of outliers in certain folds of the training set greatly influenced the resulting RMSE scores, and that the validation fold in set 3 as well as the validation set did not contain significant outliers, by random chance due to shuffling.\n",
    "\n",
    "This is because the basic linear regression model does not involve any regularisation, and thus the coefficients for each feature could be very large, especially when including all available features into the model as we just did. Thus, any outlier would have a very significant effect on the RMSE score as the individual error for these outliers would be huge. This model would not be a good choice as the test set (and real life, for that matter) would probably contain outliers as well and this model would not perform well in these situations.\n",
    "\n",
    "As for the ridge and lasso models, they actually had pretty good scores for both the cross validation and testing against the validation dataset. The main reason for this is that these regressions regularise the models and shrink the regression coefficients. Features that are deemed to be unimportant in contributing to the predictive value of the model are given smaller coefficients. Thus, the models tend to have lower variance and can generalise to new data better. In the case of lasso, it actually shrinks coefficients for irrelevant features to 0, thus further reducing the noise in the data, which could explain its better score as compared to the ridge model.\n",
    "\n",
    "Despite the good results, however, we will not stop here. The good results from the models with all 187 features come at the expense of interpretability. Complex models, although they may perform better, are harder to understand with over 100 features included. Stakeholders such as home owners who wish to improve their house value may not find these models very intuitive or useful. Furthermore, even with regularisation, there might still be many 'noisy' features in the model that are meaningless and do not contribute to an accurate predictive value.\n",
    "\n",
    "\n",
    "## Feature Selection\n",
    "\n",
    "The best way to resolve this is to cut down on the number of features included in the model. This will help us achieve a good balance between the interpretability and predictive value of the model. We can methodically shortlist the features so that we can attain validation scores close to that of the full-featured lasso model, the best performing so far. We will explore shortlisting features using two methods, and compare their results:\n",
    "1. Filtering features based on correlation with the target variable\n",
    "2. Recursive Feature Elimination\n",
    "\n",
    "### Filtering Features\n",
    "\n",
    "Here, we take a subset of the relevant features by plotting the Pearson correlation heatmap and selecting the features with the highest correlation with the target variable. The exact number to select is up for interpretation, but we will be going with the top 35 features for now."
   ]
  },
  {
   "cell_type": "code",
   "execution_count": 20,
   "metadata": {
    "scrolled": false
   },
   "outputs": [
    {
     "data": {
      "image/png": "[encoded data removed]",
      "text/plain": [
       "<Figure size 720x720 with 2 Axes>"
      ]
     },
     "metadata": {
      "needs_background": "light"
     },
     "output_type": "display_data"
    }
   ],
   "source": [
    "plt.figure(figsize=(10,10))\n",
    "\n",
    "# Taking absolute value as the sign does not affect the feature's importance\n",
    "corr_target = train.corr()[['saleprice']].abs().sort_values('saleprice',ascending=False)\n",
    "\n",
    "sns.heatmap(\n",
    "    corr_target[1:36],\n",
    "    annot=True,\n",
    "    cmap='coolwarm', \n",
    "    center=0\n",
    ")\n",
    "\n",
    "plt.title('Top 35 Features Correlated with Sale Price\\n', fontsize=20);"
   ]
  },
  {
   "cell_type": "code",
   "execution_count": 21,
   "metadata": {},
   "outputs": [],
   "source": [
    "# Creating list of top 35 correlated features\n",
    "filtered_features = corr_target[1:36].index.tolist()"
   ]
  },
  {
   "cell_type": "markdown",
   "metadata": {},
   "source": [
    "### Recursive Feature Elimination\n",
    "\n",
    "Another strategy we can employ to reduce the number of features is Recursive Feature Elimination (RFE), which works by recursively removing features and rebuilding a particular model on the features that remain. It also gives each feature a ranking based on their coefficient and continues until it hits a specified target. Similar to before, we will be trying to find the top 35 features using each model.\n",
    "\n",
    "#### Linear Regression"
   ]
  },
  {
   "cell_type": "code",
   "execution_count": 22,
   "metadata": {},
   "outputs": [],
   "source": [
    "model = LinearRegression()\n",
    "rfe = RFE(model, n_features_to_select=35)\n",
    "\n",
    "# Fitting to training data\n",
    "X_train_rfe = rfe.fit_transform(X_train, y_train)\n",
    "model.fit(X_train_rfe, y_train)\n",
    "\n",
    "# Tabulating RFE results\n",
    "rfe_results = [np.array(X_train.columns), rfe.ranking_]\n",
    "rfe_results_df = pd.DataFrame(rfe_results).T\n",
    "rfe_results_df.columns = ['Feature', 'RFE Ranking']\n",
    "\n",
    "# Top 35 features\n",
    "rfe_lr_features = rfe_results_df.loc[rfe_results_df['RFE Ranking'] == 1, 'Feature'].tolist()"
   ]
  },
  {
   "cell_type": "markdown",
   "metadata": {},
   "source": [
    "#### Ridge Regression"
   ]
  },
  {
   "cell_type": "code",
   "execution_count": 23,
   "metadata": {},
   "outputs": [],
   "source": [
    "# Using similar alpha for ease of computation\n",
    "model = Ridge(alpha=ridge_cv_full.alpha_)\n",
    "rfe = RFE(model, n_features_to_select=35)\n",
    "\n",
    "# Fitting to training data\n",
    "X_train_rfe = rfe.fit_transform(X_train, y_train)\n",
    "model.fit(X_train_rfe, y_train)\n",
    "\n",
    "# Tabulating RFE results\n",
    "rfe_results = [np.array(X_train.columns), rfe.ranking_]\n",
    "rfe_results_df = pd.DataFrame(rfe_results).T\n",
    "rfe_results_df.columns = ['Feature', 'RFE Ranking']\n",
    "\n",
    "# Top 35 features\n",
    "rfe_ridge_features = rfe_results_df.loc[rfe_results_df['RFE Ranking'] == 1, 'Feature'].tolist()"
   ]
  },
  {
   "cell_type": "markdown",
   "metadata": {},
   "source": [
    "#### Lasso Regression"
   ]
  },
  {
   "cell_type": "code",
   "execution_count": 24,
   "metadata": {},
   "outputs": [],
   "source": [
    "# Using similar alpha for ease of computation\n",
    "model = Lasso(alpha=lasso_cv_full.alpha_, max_iter=10000)\n",
    "rfe = RFE(model, n_features_to_select=35)\n",
    "\n",
    "# Fitting to training data\n",
    "X_train_rfe = rfe.fit_transform(X_train, y_train)\n",
    "model.fit(X_train_rfe, y_train)\n",
    "\n",
    "# Tabulating RFE results\n",
    "rfe_results = [np.array(X_train.columns), rfe.ranking_]\n",
    "rfe_results_df = pd.DataFrame(rfe_results).T\n",
    "rfe_results_df.columns = ['Feature', 'RFE Ranking']\n",
    "\n",
    "# Top 35 features\n",
    "rfe_lasso_features = rfe_results_df.loc[rfe_results_df['RFE Ranking'] == 1, 'Feature'].tolist()"
   ]
  },
  {
   "cell_type": "markdown",
   "metadata": {},
   "source": [
    "### Testing Features Selected\n",
    "\n",
    "We now have 4 different sets of features from our various methods of feature elimination. We will compare their results for each of the regression models."
   ]
  },
  {
   "cell_type": "code",
   "execution_count": 25,
   "metadata": {},
   "outputs": [],
   "source": [
    "reduced_features = [filtered_features, rfe_lr_features, rfe_ridge_features, rfe_lasso_features]"
   ]
  },
  {
   "cell_type": "code",
   "execution_count": 26,
   "metadata": {},
   "outputs": [
    {
     "name": "stdout",
     "output_type": "stream",
     "text": [
      "0\n",
      "CVS: 25326.1614179098\n",
      "Validation Score: 26650.973832359265\n",
      "\n",
      "1\n",
      "CVS: 1.4036669179752044e+16\n",
      "Validation Score: 53199.93364435702\n",
      "\n",
      "2\n",
      "CVS: 24742.888962921963\n",
      "Validation Score: 25374.48139461097\n",
      "\n",
      "3\n",
      "CVS: 23393.041979689002\n",
      "Validation Score: 24076.009040405872\n",
      "\n"
     ]
    }
   ],
   "source": [
    "# Linear Regression\n",
    "for i, feature_list in enumerate(reduced_features):\n",
    "    X_train_less = X_train[feature_list]\n",
    "    lr_reduced = LinearRegression()\n",
    "    cvs = np.abs(cross_val_score(lr_reduced, X_train_less, y_train, scoring='neg_root_mean_squared_error').mean())\n",
    "    lr_reduced.fit(X_train_less, y_train)\n",
    "    val_score = np.sqrt(metrics.mean_squared_error(y_val, lr_reduced.predict(X_val[feature_list])))\n",
    "    print(i)\n",
    "    print(f'CVS: {cvs}')\n",
    "    print(f'Validation Score: {val_score}')\n",
    "    print()"
   ]
  },
  {
   "cell_type": "code",
   "execution_count": 27,
   "metadata": {},
   "outputs": [
    {
     "name": "stdout",
     "output_type": "stream",
     "text": [
      "0\n",
      "CVS: 25299.6473671258\n",
      "Validation Score: 26580.14202737306\n",
      "\n",
      "1\n",
      "CVS: 53558.57017408032\n",
      "Validation Score: 52815.536129441825\n",
      "\n",
      "2\n",
      "CVS: 24671.25397077955\n",
      "Validation Score: 25370.437057704163\n",
      "\n",
      "3\n",
      "CVS: 23361.989784300407\n",
      "Validation Score: 24070.349795262533\n",
      "\n"
     ]
    }
   ],
   "source": [
    "# Ridge Regression\n",
    "for i, feature_list in enumerate(reduced_features):\n",
    "    X_train_less = X_train[feature_list]\n",
    "    r_alphas = np.logspace(0, 5, 200)\n",
    "    ridge_cv_red = RidgeCV(alphas=r_alphas, store_cv_values=True)\n",
    "    ridge_cv_red.fit(X_train_less, y_train)\n",
    "    ridge_red = Ridge(alpha=ridge_cv_red.alpha_)\n",
    "    cvs = np.abs(cross_val_score(ridge_red, X_train_less, y_train, scoring='neg_root_mean_squared_error').mean())\n",
    "    ridge_red.fit(X_train_less, y_train)\n",
    "    val_score = np.sqrt(metrics.mean_squared_error(y_val, ridge_red.predict(X_val[feature_list])))\n",
    "    print(i)\n",
    "    print(f'CVS: {cvs}')\n",
    "    print(f'Validation Score: {val_score}')\n",
    "    print()"
   ]
  },
  {
   "cell_type": "code",
   "execution_count": 28,
   "metadata": {},
   "outputs": [
    {
     "name": "stdout",
     "output_type": "stream",
     "text": [
      "0\n",
      "CVS: 25264.239062015906\n",
      "Validation Score: 26540.904174183215\n",
      "\n",
      "1\n",
      "CVS: 53568.739871727536\n",
      "Validation Score: 52732.22957155243\n",
      "\n",
      "2\n",
      "CVS: 24840.698781907\n",
      "Validation Score: 25148.21131042284\n",
      "\n",
      "3\n",
      "CVS: 23532.409015491055\n",
      "Validation Score: 23824.172210418175\n",
      "\n"
     ]
    }
   ],
   "source": [
    "# Lasso Regression\n",
    "for i, feature_list in enumerate(reduced_features):\n",
    "    X_train_less = X_train[feature_list]\n",
    "    lasso_cv_red = LassoCV(n_alphas=100, max_iter=10000)\n",
    "    lasso_cv_red.fit(X_train_less, y_train)\n",
    "    lasso_red = Lasso(alpha=lasso_cv_red.alpha_, max_iter=10000)\n",
    "    cvs = np.abs(cross_val_score(lasso_red, X_train_less, y_train, scoring='neg_root_mean_squared_error').mean())\n",
    "    lasso_red.fit(X_train_less, y_train)\n",
    "    val_score = np.sqrt(metrics.mean_squared_error(y_val, lasso_red.predict(X_val[feature_list])))\n",
    "    print(i)\n",
    "    print(f'CVS: {cvs}')\n",
    "    print(f'Validation Score: {val_score}')\n",
    "    print()"
   ]
  },
  {
   "cell_type": "markdown",
   "metadata": {},
   "source": [
    "| Feature List      | No. of Features | LR CVS   | LR Validation Score | Ridge CVS | Ridge Validation Score | Lasso CVS | Lasso Validation Score |\n",
    "|-------------------|-----------------|----------|---------------------|-----------|------------------------|-----------|------------------------|\n",
    "| Filtered Features | 35              | 25326.16 | 26650.97            | 25299.65  | 26580.14               | 25264.24  | 26540.9                |\n",
    "| RFE (LR)          | 35              | 1.40E+16 | 53199.93            | 53558.57  | 52815.54               | 53568.74  | 52732.23               |\n",
    "| RFE (Ridge)       | 35              | 24742.89 | 25374.48            | 24671.25  | 25370.44               | 24840.7   | 25148.21               |\n",
    "| RFE (Lasso)       | 35              | 23393.04 | 24076.01            | 23361.99  | 24070.35               | 23532.41  | 23824.17               |"
   ]
  },
  {
   "cell_type": "markdown",
   "metadata": {},
   "source": [
    "As seen from above, they generally performed similarly to each other, with the exception of linear regression RFE, which had much higher cross validation scores and RMSE scores against the validation set. This is likely due to similar reasons as explained earlier.\n",
    "\n",
    "Overall, the Lasso RFE method combined with a lasso regression model produced the best results. Lasso regression actually acts as a form of feature elimination by itself as it assigns a zero coefficient to features that are unimportant. However, recursively running the lasso regression within the RFE helps us to reduce the number of features even further to a number that we are comfortable with (35 in this case). Although this method may remove some features that do have some predictive value, the resulting 35 features are enough to provide a reasonably good RMSE score (only ~600 higher than fully-featured lasso model) while still having few enough features for it to be comfortably interpretable."
   ]
  },
  {
   "cell_type": "markdown",
   "metadata": {},
   "source": [
    "### Combining RFE & Filter\n",
    "\n",
    "We can explore combining the two methods by first reducing the number of features by filtering based on correlation to sale price, then applying RFE to select the best features."
   ]
  },
  {
   "cell_type": "code",
   "execution_count": 29,
   "metadata": {},
   "outputs": [],
   "source": [
    "# Filtering by correlation with saleprice\n",
    "corr_target_comb = train.corr()[['saleprice']].abs().sort_values('saleprice',ascending=False)\n",
    "filtered_features_comb = corr_target[1:76].index.tolist()"
   ]
  },
  {
   "cell_type": "code",
   "execution_count": 30,
   "metadata": {},
   "outputs": [],
   "source": [
    "# Use Lasso RFE, test with different numbers of features\n",
    "feature_list_dict = {}\n",
    "for no_of_features in [20, 25, 30, 35]:\n",
    "    X_train_comb = X_train[filtered_features_comb]\n",
    "    lasso_cv_comb = LassoCV(n_alphas=100)\n",
    "    lasso_cv_comb.fit(X_train_comb, y_train)\n",
    "    model = Lasso(alpha=lasso_cv_comb.alpha_, max_iter=10000)\n",
    "    rfe = RFE(model, n_features_to_select=no_of_features)\n",
    "\n",
    "    # Fitting to training data\n",
    "    X_train_rfe = rfe.fit_transform(X_train_comb, y_train)\n",
    "    model.fit(X_train_rfe, y_train)\n",
    "\n",
    "    # Tabulating RFE results\n",
    "    rfe_results = [np.array(X_train_comb.columns), rfe.ranking_]\n",
    "    rfe_results_df = pd.DataFrame(rfe_results).T\n",
    "    rfe_results_df.columns = ['Feature', 'RFE Ranking']\n",
    "\n",
    "    # Top features\n",
    "    rfe_lasso_features_comb = rfe_results_df.loc[rfe_results_df['RFE Ranking'] == 1, 'Feature'].tolist()\n",
    "    feature_list_dict[no_of_features] = rfe_lasso_features_comb"
   ]
  },
  {
   "cell_type": "markdown",
   "metadata": {},
   "source": [
    "Testing each list of features:"
   ]
  },
  {
   "cell_type": "code",
   "execution_count": 31,
   "metadata": {},
   "outputs": [
    {
     "name": "stdout",
     "output_type": "stream",
     "text": [
      "20\n",
      "CVS: 25399.90052695509\n",
      "Validation Score: 25860.913933135645\n",
      "\n",
      "25\n",
      "CVS: 24354.12883128564\n",
      "Validation Score: 25253.340598968476\n",
      "\n",
      "30\n",
      "CVS: 24276.75980262961\n",
      "Validation Score: 24768.702384694403\n",
      "\n",
      "35\n",
      "CVS: 24279.126085830878\n",
      "Validation Score: 24801.912345237764\n",
      "\n"
     ]
    }
   ],
   "source": [
    "# Linear Regression\n",
    "for i, feature_list in feature_list_dict.items():\n",
    "    X_train_less = X_train[feature_list]\n",
    "    lr_reduced = LinearRegression()\n",
    "    cvs = np.abs(cross_val_score(lr_reduced, X_train_less, y_train, scoring='neg_root_mean_squared_error').mean())\n",
    "    lr_reduced.fit(X_train_less, y_train)\n",
    "    val_score = np.sqrt(metrics.mean_squared_error(y_val, lr_reduced.predict(X_val[feature_list])))\n",
    "    print(i)\n",
    "    print(f'CVS: {cvs}')\n",
    "    print(f'Validation Score: {val_score}')\n",
    "    print()"
   ]
  },
  {
   "cell_type": "code",
   "execution_count": 32,
   "metadata": {},
   "outputs": [
    {
     "name": "stdout",
     "output_type": "stream",
     "text": [
      "20\n",
      "CVS: 25311.261013557472\n",
      "Validation Score: 25840.269752870623\n",
      "\n",
      "25\n",
      "CVS: 24244.55961282274\n",
      "Validation Score: 25234.246845990223\n",
      "\n",
      "30\n",
      "CVS: 24108.202097616566\n",
      "Validation Score: 24741.704578242057\n",
      "\n",
      "35\n",
      "CVS: 24042.932631452153\n",
      "Validation Score: 24775.749338434005\n",
      "\n"
     ]
    }
   ],
   "source": [
    "# Ridge Regression\n",
    "for i, feature_list in feature_list_dict.items():\n",
    "    X_train_less = X_train[feature_list]\n",
    "    r_alphas = np.logspace(0, 5, 200)\n",
    "    ridge_cv_red = RidgeCV(alphas=r_alphas, store_cv_values=True)\n",
    "    ridge_cv_red.fit(X_train_less, y_train)\n",
    "    ridge_red = Ridge(alpha=ridge_cv_red.alpha_)\n",
    "    cvs = np.abs(cross_val_score(ridge_red, X_train_less, y_train, scoring='neg_root_mean_squared_error').mean())\n",
    "    ridge_red.fit(X_train_less, y_train)\n",
    "    val_score = np.sqrt(metrics.mean_squared_error(y_val, ridge_red.predict(X_val[feature_list])))\n",
    "    print(i)\n",
    "    print(f'CVS: {cvs}')\n",
    "    print(f'Validation Score: {val_score}')\n",
    "    print()"
   ]
  },
  {
   "cell_type": "code",
   "execution_count": 33,
   "metadata": {},
   "outputs": [
    {
     "name": "stdout",
     "output_type": "stream",
     "text": [
      "20\n",
      "CVS: 25377.728848464634\n",
      "Validation Score: 25865.727013430995\n",
      "\n",
      "25\n",
      "CVS: 24329.966359338578\n",
      "Validation Score: 25193.037547250442\n",
      "\n",
      "30\n",
      "CVS: 24226.32782915899\n",
      "Validation Score: 24736.72890151967\n",
      "\n",
      "35\n",
      "CVS: 24207.068964076734\n",
      "Validation Score: 24761.15039754665\n",
      "\n"
     ]
    }
   ],
   "source": [
    "# Lasso Regression\n",
    "for i, feature_list in feature_list_dict.items():\n",
    "    X_train_less = X_train[feature_list]\n",
    "    lasso_cv_red = LassoCV(n_alphas=100)\n",
    "    lasso_cv_red.fit(X_train_less, y_train)\n",
    "    lasso_red = Lasso(alpha=lasso_cv_red.alpha_)\n",
    "    cvs = np.abs(cross_val_score(lasso_red, X_train_less, y_train, scoring='neg_root_mean_squared_error').mean())\n",
    "    lasso_red.fit(X_train_less, y_train)\n",
    "    val_score = np.sqrt(metrics.mean_squared_error(y_val, lasso_red.predict(X_val[feature_list])))\n",
    "    print(i)\n",
    "    print(f'CVS: {cvs}')\n",
    "    print(f'Validation Score: {val_score}')\n",
    "    print()"
   ]
  },
  {
   "cell_type": "markdown",
   "metadata": {},
   "source": [
    "| No. of Features | LR CVS   | LR Validation Score | Ridge CVS | Ridge Validation Score | Lasso CVS | Lasso Validation Score \n",
    "|-----------------|----------|---------------------|-----------|------------------------|-----------|------------------------|\n",
    "| 20              | 25399.9  | 25860.91            | 25311.26  | 25840.27               | 25377.73  | 25865.73                              |\n",
    "| 25              | 24354.13 | 25253.34            | 24244.56  | 25234.25               | 24329.97  | 25193.04                            |\n",
    "| 30              | 24276.76 | 24768.7             | 24108.2   | 24741.7                | 24226.33  | 24736.73                            |\n",
    "| 35              | 24279.13 | 24801.91            | 24042.93  | 24775.75               | 24207.07  | 24761.15                            |"
   ]
  },
  {
   "cell_type": "markdown",
   "metadata": {},
   "source": [
    "Based on the comparison, the ideal number of features seemed to be 30. However, the models with the features obtained by a combination of both methods did not yield results as good as those that were obtained through pure RFE like before. A reason for this could be that the filtering via correlation coefficient method could have actually resulted in several collinear features, which would not contribute as much to the predictive value of the final model."
   ]
  },
  {
   "cell_type": "markdown",
   "metadata": {},
   "source": [
    "### Final Model\n",
    "\n",
    "Based on the above, we will select 30 features using the lasso RFE method and create a lasso regression model based on these features."
   ]
  },
  {
   "cell_type": "code",
   "execution_count": 34,
   "metadata": {},
   "outputs": [],
   "source": [
    "# Finding best alpha from initial lasso RFE feature list for ease of computation\n",
    "lasso_cv_rfe = LassoCV(n_alphas=100)\n",
    "lasso_cv_rfe.fit(X_train[rfe_lasso_features], y_train);"
   ]
  },
  {
   "cell_type": "code",
   "execution_count": 35,
   "metadata": {},
   "outputs": [],
   "source": [
    "model = Lasso(alpha=lasso_cv_rfe.alpha_, max_iter=10000)\n",
    "rfe = RFE(model, n_features_to_select=30)\n",
    "\n",
    "# Fitting to training data\n",
    "X_train_rfe = rfe.fit_transform(X_train, y_train)\n",
    "model.fit(X_train_rfe, y_train)\n",
    "\n",
    "# Tabulating RFE results\n",
    "rfe_results = [np.array(X_train.columns), rfe.ranking_]\n",
    "rfe_results_df = pd.DataFrame(rfe_results).T\n",
    "rfe_results_df.columns = ['Feature', 'RFE Ranking']\n",
    "\n",
    "# Top 30 features\n",
    "final_feature_list = rfe_results_df.loc[rfe_results_df['RFE Ranking'] == 1, 'Feature'].tolist()"
   ]
  },
  {
   "cell_type": "code",
   "execution_count": 36,
   "metadata": {},
   "outputs": [
    {
     "data": {
      "text/plain": [
       "['x0_60',\n",
       " 'x2_HLS',\n",
       " 'x4_BrkSide',\n",
       " 'x4_Crawfor',\n",
       " 'x4_GrnHill',\n",
       " 'x4_NoRidge',\n",
       " 'x4_NridgHt',\n",
       " 'x4_Somerst',\n",
       " 'x4_StoneBr',\n",
       " 'x5_1Fam',\n",
       " 'x5_Twnhs',\n",
       " 'x7_Mansard',\n",
       " 'x8_BrkFace',\n",
       " 'x9_CmentBd',\n",
       " 'x10_BrkCmn',\n",
       " 'x10_None',\n",
       " 'x10_Stone',\n",
       " 'x14_New',\n",
       " 'overall_qual',\n",
       " 'overall_cond',\n",
       " 'exter_qual',\n",
       " 'kitchen_qual',\n",
       " 'lot_area',\n",
       " 'mas_vnr_area',\n",
       " '2nd_flr_sf',\n",
       " 'property_age',\n",
       " '1st_flr_sf_total_bsmt_sf',\n",
       " 'bsmtfin_sf_1_total_bsmt_sf',\n",
       " 'gr_liv_area_2nd_flr_sf',\n",
       " 'gr_liv_area_1st_flr_sf']"
      ]
     },
     "execution_count": 36,
     "metadata": {},
     "output_type": "execute_result"
    }
   ],
   "source": [
    "final_feature_list"
   ]
  },
  {
   "cell_type": "markdown",
   "metadata": {},
   "source": [
    "# Submission\n",
    "\n",
    "\n",
    "Kaggle expects submissions in a specific format. We will re-train the model on the entire training dataset (including the validation set) in order for the model to have more information and perform better, then format the submission file."
   ]
  },
  {
   "cell_type": "code",
   "execution_count": 37,
   "metadata": {},
   "outputs": [],
   "source": [
    "# Retrain model on entire training dataset\n",
    "X_final = X_full_train[final_feature_list]\n",
    "\n",
    "# Finding best alpha\n",
    "lasso_cv_final = LassoCV(n_alphas=100)\n",
    "lasso_cv_final.fit(X_final, y_full_train)\n",
    "\n",
    "# Creating final model\n",
    "model_final = Lasso(alpha=lasso_cv_final.alpha_)\n",
    "model_final.fit(X_final, y_full_train)\n",
    "\n",
    "# Creating predictions on test set\n",
    "test_preds = model_final.predict(X_test[final_feature_list])"
   ]
  },
  {
   "cell_type": "code",
   "execution_count": 38,
   "metadata": {},
   "outputs": [],
   "source": [
    "# Creating dataframe with final predicted values\n",
    "final_sub = pd.DataFrame({\n",
    "    'Id': [],\n",
    "    'SalePrice': []\n",
    "})\n",
    "\n",
    "final_sub['Id'] = test['Id']\n",
    "final_sub['SalePrice'] = test_preds"
   ]
  },
  {
   "cell_type": "code",
   "execution_count": 39,
   "metadata": {},
   "outputs": [
    {
     "data": {
      "text/html": [
       "<div>\n",
       "<style scoped>\n",
       "    .dataframe tbody tr th:only-of-type {\n",
       "        vertical-align: middle;\n",
       "    }\n",
       "\n",
       "    .dataframe tbody tr th {\n",
       "        vertical-align: top;\n",
       "    }\n",
       "\n",
       "    .dataframe thead th {\n",
       "        text-align: right;\n",
       "    }\n",
       "</style>\n",
       "<table border=\"1\" class=\"dataframe\">\n",
       "  <thead>\n",
       "    <tr style=\"text-align: right;\">\n",
       "      <th></th>\n",
       "      <th>Id</th>\n",
       "      <th>SalePrice</th>\n",
       "    </tr>\n",
       "  </thead>\n",
       "  <tbody>\n",
       "    <tr>\n",
       "      <th>0</th>\n",
       "      <td>2658</td>\n",
       "      <td>135217.551184</td>\n",
       "    </tr>\n",
       "    <tr>\n",
       "      <th>1</th>\n",
       "      <td>2718</td>\n",
       "      <td>160853.928397</td>\n",
       "    </tr>\n",
       "    <tr>\n",
       "      <th>2</th>\n",
       "      <td>2414</td>\n",
       "      <td>220704.310231</td>\n",
       "    </tr>\n",
       "    <tr>\n",
       "      <th>3</th>\n",
       "      <td>1989</td>\n",
       "      <td>111511.905981</td>\n",
       "    </tr>\n",
       "    <tr>\n",
       "      <th>4</th>\n",
       "      <td>625</td>\n",
       "      <td>164362.445099</td>\n",
       "    </tr>\n",
       "    <tr>\n",
       "      <th>...</th>\n",
       "      <td>...</td>\n",
       "      <td>...</td>\n",
       "    </tr>\n",
       "    <tr>\n",
       "      <th>874</th>\n",
       "      <td>1662</td>\n",
       "      <td>194043.805539</td>\n",
       "    </tr>\n",
       "    <tr>\n",
       "      <th>875</th>\n",
       "      <td>1234</td>\n",
       "      <td>228143.349962</td>\n",
       "    </tr>\n",
       "    <tr>\n",
       "      <th>876</th>\n",
       "      <td>1373</td>\n",
       "      <td>125421.574564</td>\n",
       "    </tr>\n",
       "    <tr>\n",
       "      <th>877</th>\n",
       "      <td>1672</td>\n",
       "      <td>114817.004475</td>\n",
       "    </tr>\n",
       "    <tr>\n",
       "      <th>878</th>\n",
       "      <td>1939</td>\n",
       "      <td>120584.774283</td>\n",
       "    </tr>\n",
       "  </tbody>\n",
       "</table>\n",
       "<p>879 rows × 2 columns</p>\n",
       "</div>"
      ],
      "text/plain": [
       "       Id      SalePrice\n",
       "0    2658  135217.551184\n",
       "1    2718  160853.928397\n",
       "2    2414  220704.310231\n",
       "3    1989  111511.905981\n",
       "4     625  164362.445099\n",
       "..    ...            ...\n",
       "874  1662  194043.805539\n",
       "875  1234  228143.349962\n",
       "876  1373  125421.574564\n",
       "877  1672  114817.004475\n",
       "878  1939  120584.774283\n",
       "\n",
       "[879 rows x 2 columns]"
      ]
     },
     "execution_count": 39,
     "metadata": {},
     "output_type": "execute_result"
    }
   ],
   "source": [
    "# Checking format & no. of rows\n",
    "final_sub"
   ]
  },
  {
   "cell_type": "code",
   "execution_count": 40,
   "metadata": {},
   "outputs": [],
   "source": [
    "# Export for submission\n",
    "final_sub.to_csv('../datasets/final_submission.csv', index=False)"
   ]
  },
  {
   "cell_type": "markdown",
   "metadata": {},
   "source": [
    "![final_rmse_score](../images/final_rmse_22661.png \"Final RMSE\")"
   ]
  },
  {
   "cell_type": "markdown",
   "metadata": {},
   "source": [
    "# Conclusions\n",
    "\n",
    "Our model returned a pretty decent RMSE score of about 22,600. As compared to the null regression (83689), it shows that our model would quite a fair bit of value to home-owners who would want to predict the sale price of their homes. This resolves our problem statement, **How can we best predict the sale price of a house using a linear regression model?**"
   ]
  },
  {
   "cell_type": "markdown",
   "metadata": {},
   "source": [
    "## Interpreting Coefficients\n",
    "\n",
    "Feature coefficients can be simply interpreted as `Bx` in the linear regression equation: `Y = B0 + B1X1 + ... + BxXx + e`\n",
    "\n",
    "`B0` represents the intercept while `Bx` represents the slope parameter. For instance,"
   ]
  },
  {
   "cell_type": "code",
   "execution_count": 53,
   "metadata": {},
   "outputs": [
    {
     "data": {
      "text/plain": [
       "'overall_qual'"
      ]
     },
     "execution_count": 53,
     "metadata": {},
     "output_type": "execute_result"
    }
   ],
   "source": [
    "final_feature_list[18]"
   ]
  },
  {
   "cell_type": "code",
   "execution_count": 54,
   "metadata": {},
   "outputs": [
    {
     "data": {
      "text/plain": [
       "16573.341563087917"
      ]
     },
     "execution_count": 54,
     "metadata": {},
     "output_type": "execute_result"
    }
   ],
   "source": [
    "model_final.coef_[18]"
   ]
  },
  {
   "cell_type": "code",
   "execution_count": 44,
   "metadata": {},
   "outputs": [
    {
     "data": {
      "text/plain": [
       "159106.48091493032"
      ]
     },
     "execution_count": 44,
     "metadata": {},
     "output_type": "execute_result"
    }
   ],
   "source": [
    "model_final.intercept_"
   ]
  },
  {
   "cell_type": "markdown",
   "metadata": {},
   "source": [
    "Suggests that `overall_qual` impact on our model is as follows:\n",
    "`sale_price` = 159106.48 + 16573.34(`overall_qual`)\n",
    "\n",
    "Meaning to say, a one unit increase in overall quality of the house would relate to a predicted increase in sale price of $16,573.34."
   ]
  },
  {
   "cell_type": "markdown",
   "metadata": {},
   "source": [
    "## Recommendations\n",
    "\n",
    "We can interpret the model further by finding features that appear to add the most value to a home, which would be useful information to home owners."
   ]
  },
  {
   "cell_type": "code",
   "execution_count": 45,
   "metadata": {},
   "outputs": [],
   "source": [
    "coefs = pd.DataFrame([final_feature_list, model_final.coef_]).T"
   ]
  },
  {
   "cell_type": "code",
   "execution_count": 46,
   "metadata": {},
   "outputs": [],
   "source": [
    "coefs.columns = ['feature', 'Coefficient']"
   ]
  },
  {
   "cell_type": "code",
   "execution_count": 47,
   "metadata": {},
   "outputs": [
    {
     "data": {
      "text/html": [
       "<div>\n",
       "<style scoped>\n",
       "    .dataframe tbody tr th:only-of-type {\n",
       "        vertical-align: middle;\n",
       "    }\n",
       "\n",
       "    .dataframe tbody tr th {\n",
       "        vertical-align: top;\n",
       "    }\n",
       "\n",
       "    .dataframe thead th {\n",
       "        text-align: right;\n",
       "    }\n",
       "</style>\n",
       "<table border=\"1\" class=\"dataframe\">\n",
       "  <thead>\n",
       "    <tr style=\"text-align: right;\">\n",
       "      <th></th>\n",
       "      <th>feature</th>\n",
       "      <th>Coefficient</th>\n",
       "    </tr>\n",
       "  </thead>\n",
       "  <tbody>\n",
       "    <tr>\n",
       "      <th>8</th>\n",
       "      <td>x4_StoneBr</td>\n",
       "      <td>35529.8</td>\n",
       "    </tr>\n",
       "    <tr>\n",
       "      <th>6</th>\n",
       "      <td>x4_NridgHt</td>\n",
       "      <td>30779.7</td>\n",
       "    </tr>\n",
       "    <tr>\n",
       "      <th>4</th>\n",
       "      <td>x4_GrnHill</td>\n",
       "      <td>26015.6</td>\n",
       "    </tr>\n",
       "    <tr>\n",
       "      <th>28</th>\n",
       "      <td>gr_liv_area_2nd_flr_sf</td>\n",
       "      <td>19900.5</td>\n",
       "    </tr>\n",
       "    <tr>\n",
       "      <th>17</th>\n",
       "      <td>x14_New</td>\n",
       "      <td>18067.5</td>\n",
       "    </tr>\n",
       "    <tr>\n",
       "      <th>18</th>\n",
       "      <td>overall_qual</td>\n",
       "      <td>16573.3</td>\n",
       "    </tr>\n",
       "    <tr>\n",
       "      <th>3</th>\n",
       "      <td>x4_Crawfor</td>\n",
       "      <td>14894.3</td>\n",
       "    </tr>\n",
       "    <tr>\n",
       "      <th>27</th>\n",
       "      <td>bsmtfin_sf_1_total_bsmt_sf</td>\n",
       "      <td>14500.7</td>\n",
       "    </tr>\n",
       "  </tbody>\n",
       "</table>\n",
       "</div>"
      ],
      "text/plain": [
       "                       feature Coefficient\n",
       "8                   x4_StoneBr     35529.8\n",
       "6                   x4_NridgHt     30779.7\n",
       "4                   x4_GrnHill     26015.6\n",
       "28      gr_liv_area_2nd_flr_sf     19900.5\n",
       "17                     x14_New     18067.5\n",
       "18                overall_qual     16573.3\n",
       "3                   x4_Crawfor     14894.3\n",
       "27  bsmtfin_sf_1_total_bsmt_sf     14500.7"
      ]
     },
     "execution_count": 47,
     "metadata": {},
     "output_type": "execute_result"
    }
   ],
   "source": [
    "coefs.sort_values(by='Coefficient', ascending=False).head(8)"
   ]
  },
  {
   "cell_type": "markdown",
   "metadata": {},
   "source": [
    "The features with the highest coefficients include physical neighbourhood locations (`StoneBr`, `NrigHt` and `GrnHill`), which suggests that these are exclusive neighbourhoods with high property values. There are also 2 interaction features relating to the size of the house, which explains that the bigger the house, the higher its value. The `overall_qual` of the house is also an important factor in increasing the sale price of the house."
   ]
  },
  {
   "cell_type": "code",
   "execution_count": 48,
   "metadata": {},
   "outputs": [
    {
     "data": {
      "text/html": [
       "<div>\n",
       "<style scoped>\n",
       "    .dataframe tbody tr th:only-of-type {\n",
       "        vertical-align: middle;\n",
       "    }\n",
       "\n",
       "    .dataframe tbody tr th {\n",
       "        vertical-align: top;\n",
       "    }\n",
       "\n",
       "    .dataframe thead th {\n",
       "        text-align: right;\n",
       "    }\n",
       "</style>\n",
       "<table border=\"1\" class=\"dataframe\">\n",
       "  <thead>\n",
       "    <tr style=\"text-align: right;\">\n",
       "      <th></th>\n",
       "      <th>feature</th>\n",
       "      <th>Coefficient</th>\n",
       "    </tr>\n",
       "  </thead>\n",
       "  <tbody>\n",
       "    <tr>\n",
       "      <th>11</th>\n",
       "      <td>x7_Mansard</td>\n",
       "      <td>-16822.4</td>\n",
       "    </tr>\n",
       "    <tr>\n",
       "      <th>25</th>\n",
       "      <td>property_age</td>\n",
       "      <td>-11810.4</td>\n",
       "    </tr>\n",
       "    <tr>\n",
       "      <th>14</th>\n",
       "      <td>x10_BrkCmn</td>\n",
       "      <td>-9386.58</td>\n",
       "    </tr>\n",
       "    <tr>\n",
       "      <th>10</th>\n",
       "      <td>x5_Twnhs</td>\n",
       "      <td>-5185.86</td>\n",
       "    </tr>\n",
       "    <tr>\n",
       "      <th>24</th>\n",
       "      <td>2nd_flr_sf</td>\n",
       "      <td>-4804.13</td>\n",
       "    </tr>\n",
       "    <tr>\n",
       "      <th>13</th>\n",
       "      <td>x9_CmentBd</td>\n",
       "      <td>3604.61</td>\n",
       "    </tr>\n",
       "    <tr>\n",
       "      <th>15</th>\n",
       "      <td>x10_None</td>\n",
       "      <td>3815.09</td>\n",
       "    </tr>\n",
       "    <tr>\n",
       "      <th>0</th>\n",
       "      <td>x0_60</td>\n",
       "      <td>4833.87</td>\n",
       "    </tr>\n",
       "  </tbody>\n",
       "</table>\n",
       "</div>"
      ],
      "text/plain": [
       "         feature Coefficient\n",
       "11    x7_Mansard    -16822.4\n",
       "25  property_age    -11810.4\n",
       "14    x10_BrkCmn    -9386.58\n",
       "10      x5_Twnhs    -5185.86\n",
       "24    2nd_flr_sf    -4804.13\n",
       "13    x9_CmentBd     3604.61\n",
       "15      x10_None     3815.09\n",
       "0          x0_60     4833.87"
      ]
     },
     "execution_count": 48,
     "metadata": {},
     "output_type": "execute_result"
    }
   ],
   "source": [
    "coefs.sort_values(by='Coefficient', ascending=True).head(8)"
   ]
  },
  {
   "cell_type": "markdown",
   "metadata": {},
   "source": [
    "Conversely, features like an aging house, a Mansard style roof and a cement boarded exterior could lead to a lower sale price.\n",
    "\n",
    "One interesting thing to note is that the `2nd_flr_sf` feature actually had a negative effect on price *in this model*. On first glance, this does not really make sense as intuitively, a larger house area would usually mean a greater selling price. Furthermore, the other size-related features generally had a large positive effect on sale price. On further inspection, however, we find that the interaction feature `gr_liv_area_2nd_flr_sf` based off this feature actually had a larger positive effect on sale price, and so this is how the model interpreted their overall relationships to sale price.\n",
    "\n",
    "This leads back to the tradeoff between interpretability and model performance. Besides the selection of the actual model itself, the feature engineering and preprocessing actually plays a part in this as well. Polynomial and interaction features may improve the model's performance. However, as shown above, this comes at a cost of some interpretability. \n",
    "\n",
    "A good way to frame our decisions throughout this model creation process is to think of the stakeholders involved - if the model was targeted towards homeowners who wanted to find out what they should improve to increase the sale price of their homes, then we should lean towards interpretability so that the model coefficients are clear and understandable to them. Conversely, if it was targeted towards real estate developers or investors whose sole aim is to have a model with the best performance, then we can lean the other way and include more polynomial & interaction features, choosing the model that results in the lowest validation RMSE score even if it involves hundreds of features."
   ]
  }
 ],
 "metadata": {
  "kernelspec": {
   "display_name": "Python 3",
   "language": "python",
   "name": "python3"
  },
  "language_info": {
   "codemirror_mode": {
    "name": "ipython",
    "version": 3
   },
   "file_extension": ".py",
   "mimetype": "text/x-python",
   "name": "python",
   "nbconvert_exporter": "python",
   "pygments_lexer": "ipython3",
   "version": "3.8.5"
  }
 },
 "nbformat": 4,
 "nbformat_minor": 4
}
